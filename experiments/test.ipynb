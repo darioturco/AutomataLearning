{
 "cells": [
  {
   "cell_type": "raw",
   "source": [],
   "metadata": {
    "collapsed": false
   },
   "id": "fc97c366b5bfc26e"
  },
  {
   "cell_type": "code",
   "execution_count": 1,
   "id": "initial_id",
   "metadata": {
    "collapsed": true,
    "ExecuteTime": {
     "end_time": "2025-02-02T02:16:01.958178500Z",
     "start_time": "2025-02-02T02:16:01.122519300Z"
    }
   },
   "outputs": [],
   "source": [
    "import jax\n",
    "import numpy as np\n",
    "from src.transducers import *\n",
    "from src.utils import *\n"
   ]
  },
  {
   "cell_type": "code",
   "execution_count": 2,
   "outputs": [],
   "source": [
    "t1 = StateTransducer([0], {0: [('a', 0, '0'), ('b', 0, '1')]}, 0, ['a', 'b'], ['0', '1'])\n",
    "t1 = StateTransducer([0], {0: [('a', 0, '0'), ('b', 0, '1')]}, 0, ['a', 'b'], ['0', '1'])"
   ],
   "metadata": {
    "collapsed": false,
    "ExecuteTime": {
     "end_time": "2025-02-02T02:16:01.974193Z",
     "start_time": "2025-02-02T02:16:01.960181800Z"
    }
   },
   "id": "d4a7664941b37fd3"
  },
  {
   "cell_type": "code",
   "execution_count": 3,
   "outputs": [
    {
     "data": {
      "text/plain": "('01010', [0, 0, 0, 0, 0, 0])"
     },
     "execution_count": 3,
     "metadata": {},
     "output_type": "execute_result"
    }
   ],
   "source": [
    "t.run_fsm(\"ababa\")"
   ],
   "metadata": {
    "collapsed": false,
    "ExecuteTime": {
     "end_time": "2025-02-02T02:16:02.008223700Z",
     "start_time": "2025-02-02T02:16:01.975193900Z"
    }
   },
   "id": "d43d86230b20552"
  },
  {
   "cell_type": "code",
   "execution_count": 4,
   "outputs": [
    {
     "data": {
      "text/plain": "(0, '0')"
     },
     "execution_count": 4,
     "metadata": {},
     "output_type": "execute_result"
    }
   ],
   "source": [],
   "metadata": {
    "collapsed": false,
    "ExecuteTime": {
     "end_time": "2025-02-02T02:14:56.476491500Z",
     "start_time": "2025-02-02T02:14:56.280049700Z"
    }
   },
   "id": "3f2f45b745eb557e"
  },
  {
   "cell_type": "code",
   "execution_count": null,
   "outputs": [],
   "source": [],
   "metadata": {
    "collapsed": false
   },
   "id": "2dab97e8c3f0d3df"
  }
 ],
 "metadata": {
  "kernelspec": {
   "display_name": "Python 3",
   "language": "python",
   "name": "python3"
  },
  "language_info": {
   "codemirror_mode": {
    "name": "ipython",
    "version": 2
   },
   "file_extension": ".py",
   "mimetype": "text/x-python",
   "name": "python",
   "nbconvert_exporter": "python",
   "pygments_lexer": "ipython2",
   "version": "2.7.6"
  }
 },
 "nbformat": 4,
 "nbformat_minor": 5
}
